{
 "cells": [
  {
   "cell_type": "markdown",
   "metadata": {},
   "source": [
    "These are [Benjamin Mako Hill's](https://mako.cc/academic) answers to the CDSW babynames solutions. Your answers might be really different and that's totally great! Different programmers will come to different solutions to the same problem."
   ]
  },
  {
   "cell_type": "code",
   "execution_count": null,
   "metadata": {},
   "outputs": [],
   "source": [
    "import ssadata"
   ]
  },
  {
   "cell_type": "markdown",
   "metadata": {},
   "source": [
    "### 1. Search for your own name. Are there both boys and girls that have your name? Is it more popular for one group than for the other?"
   ]
  },
  {
   "cell_type": "code",
   "execution_count": null,
   "metadata": {},
   "outputs": [],
   "source": [
    "# modify the following with your name as the value for the variable name\n",
    "\n",
    "name = \"mako\"\n",
    "\n",
    "if name in ssadata.boys:\n",
    "    boys_count = ssadata.boys[name]\n",
    "    print(\"there were \" + str(boys_count) + \" boys named \" + name)\n",
    "else:\n",
    "    boys_count = 0\n",
    "    print(\"there were no boys named \" + name)\n",
    "    \n",
    "if name in ssadata.girls:\n",
    "    girls_count = ssadata.girls[name]\n",
    "    print(\"there were \" + str(girls_count) + \" girls named \" + name)\n",
    "else:\n",
    "    girls_count = 0\n",
    "    print(\"there were no girls named \" + name)\n",
    "\n",
    "if boys_count > girls_count:\n",
    "    print(\"there were more boys named \" + name + \" than girls\")\n",
    "elif boys_count == girls_count:\n",
    "    print(\"there were the same number boys and girls named \" + name)\n",
    "else:\n",
    "    print(\"there were more girls named \" + name + \" than boys\")"
   ]
  },
  {
   "cell_type": "markdown",
   "metadata": {},
   "source": [
    "### 2. Are there more boys' names or girls' names? What about for particular first letters? What about for ''every'' first letter?"
   ]
  },
  {
   "cell_type": "code",
   "execution_count": null,
   "metadata": {},
   "outputs": [],
   "source": [
    "num_boys_names = len(ssadata.boys)\n",
    "num_girls_names = len(ssadata.girls)\n",
    "\n",
    "print(\"total boy names: \" + str(num_boys_names))\n",
    "print(\"total girl names: \" + str(num_girls_names))\n",
    "\n",
    "for letter in \"abcdefghijklmnopqrstuvwxyz\":\n",
    "    count_boys = 0\n",
    "    count_girls = 0\n",
    "    for name in ssadata.boys:\n",
    "        first_letter = name[0]\n",
    "        if first_letter == letter:\n",
    "            count_boys = count_boys + 1\n",
    "    \n",
    "    for name in ssadata.girls:\n",
    "        first_letter = name[0]\n",
    "        if first_letter == letter:\n",
    "            count_girls = count_girls + 1\n",
    "    \n",
    "    if count_boys == count_girls:\n",
    "        print(letter + \": the same number of boys names and girls names\")\n",
    "    elif count_boys > count_girls:\n",
    "        print(letter + \": more boys names than girls names\")\n",
    "    else:\n",
    "        print(letter + \": more girls names than boys names\")"
   ]
  },
  {
   "cell_type": "markdown",
   "metadata": {},
   "source": [
    "### 3. What is the longest name in the dataset?"
   ]
  },
  {
   "cell_type": "code",
   "execution_count": null,
   "metadata": {},
   "outputs": [],
   "source": [
    "maximum_length = 0\n",
    "longest_names = []\n",
    "\n",
    "for boys_name in ssadata.boys:\n",
    "    if len(boys_name ) > maximum_length:\n",
    "        maximum_length = len(boys_name)\n",
    "        longest_names = []\n",
    "        longest_names.append(boys_name)\n",
    "    elif len(boys_name) == maximum_length:\n",
    "        longest_names.append(boys_name)\n",
    "\n",
    "for girls_name in ssadata.girls:\n",
    "    if len(girls_name) > maximum_length:\n",
    "        maximum_length = len(girls_name)\n",
    "        longest_names = []\n",
    "        longest_names.append(girls_name)\n",
    "    elif len(girls_name) == maximum_length:\n",
    "        longest_names.append(girls_name)\n",
    "\n",
    "print(\"The longest names in the data set are \" + str(maximum_length) + \" letters! They are:\")\n",
    "\n",
    "for name in longest_names:\n",
    "    print(name)"
   ]
  },
  {
   "cell_type": "markdown",
   "metadata": {},
   "source": [
    "### What is the most common name and how often does it occur?\n",
    "\n",
    "I am going to run this once for boys and then again for boys."
   ]
  },
  {
   "cell_type": "code",
   "execution_count": null,
   "metadata": {},
   "outputs": [],
   "source": [
    "most_common_name_count = 0\n",
    "most_common_names = []\n",
    "\n",
    "for name in ssadata.boys:\n",
    "    if ssadata.boys[name] > most_common_name_count:\n",
    "        most_common_name_count = ssadata.boys[name]\n",
    "        most_common_names = [name]\n",
    "    elif ssadata.boys[name] == most_common_name_count:\n",
    "        most_common_names.append(name)\n",
    "    \n",
    "print(\"The most common name(s) for boys is:\")\n",
    "for name in most_common_names:\n",
    "    print(name)\n",
    "    print(\"It is given to this many boys: \" + str(ssadata.boys[name]))"
   ]
  },
  {
   "cell_type": "code",
   "execution_count": null,
   "metadata": {},
   "outputs": [],
   "source": [
    "most_common_name_count = 0\n",
    "most_common_names = []\n",
    "\n",
    "for name in ssadata.girls:\n",
    "    if ssadata.girls[name] > most_common_name_count:\n",
    "        most_common_name_count = ssadata.girls[name]\n",
    "        most_common_names = [name]\n",
    "    elif ssadata.girls[name] == most_common_name_count:\n",
    "        most_common_names.append(name)\n",
    "    \n",
    "print(\"The most common name(s) for girls is:\")\n",
    "for name in most_common_names:\n",
    "    print(name)\n",
    "    print(\"It is given to this many girls: \" + str(ssadata.girls[name]))"
   ]
  },
  {
   "cell_type": "markdown",
   "metadata": {},
   "source": [
    "### 5. What is the least common name and how often does it occur? Does that concern you?"
   ]
  },
  {
   "cell_type": "code",
   "execution_count": null,
   "metadata": {},
   "outputs": [],
   "source": [
    "least_common_name_count = 0\n",
    "least_common_names = []\n",
    "\n",
    "for name in ssadata.boys:\n",
    "    if least_common_name_count == 0:\n",
    "        least_common_name_count = ssadata.boys[name]      \n",
    "    if ssadata.boys[name] < least_common_name_count:\n",
    "        least_common_name_count = ssadata.boys[name]\n",
    "        least_common_names = [name]\n",
    "    elif ssadata.boys[name] == least_common_name_count:\n",
    "        least_common_names.append(name)\n",
    "    \n",
    "print(\"The least common name(s) for boys is:\")\n",
    "for name in least_common_names:\n",
    "    print(name)\n",
    "    print(\"It is given to this many boys: \" + str(ssadata.boys[name]))"
   ]
  },
  {
   "cell_type": "code",
   "execution_count": null,
   "metadata": {},
   "outputs": [],
   "source": [
    "least_common_name_count = 0\n",
    "least_common_names = []\n",
    "\n",
    "for name in ssadata.girls:\n",
    "    if least_common_name_count == 0:\n",
    "        least_common_name_count = ssadata.girls[name]      \n",
    "    if ssadata.girls[name] < least_common_name_count:\n",
    "        least_common_name_count = ssadata.girls[name]\n",
    "        least_common_names = [name]\n",
    "    elif ssadata.girls[name] == least_common_name_count:\n",
    "        least_common_names.append(name)\n",
    "    \n",
    "print(\"The least common name(s) for girls is:\")\n",
    "for name in least_common_names:\n",
    "    print(name)\n",
    "    print(\"It is given to this many girls: \" + str(ssadata.girls[name]))"
   ]
  },
  {
   "cell_type": "markdown",
   "metadata": {},
   "source": [
    "In both cases, it appears that the least common name is 5 and that there are *many* names (both boys and girls) that are given to exactly 5 children. In this case, the issue is that the dataset only includes names that are given at at least five children! It's certainly good to know this!"
   ]
  },
  {
   "cell_type": "markdown",
   "metadata": {},
   "source": [
    "### 6. How many boys and girls are described in the dataset (i.e., how many boys and girls born in 2018 have names given to at least four others)?"
   ]
  },
  {
   "cell_type": "code",
   "execution_count": null,
   "metadata": {},
   "outputs": [],
   "source": [
    "numberOfBoys = 0\n",
    "for boysName in ssadata.boys:\n",
    "        numberOfBoys = numberOfBoys + ssadata.boys[boysName]\n",
    "\n",
    "numberOfGirls = 0\n",
    "for girlsName in ssadata.girls:\n",
    "        numberOfGirls = numberOfGirls + ssadata.girls[girlsName]\n",
    "\n",
    "print(\"There are \" + str(numberOfBoys) + \" boys and \" + str(numberOfGirls) + \" girls in the data set.\")"
   ]
  },
  {
   "cell_type": "markdown",
   "metadata": {},
   "source": [
    "### 7. How many boys' names are also girls' names? How many girls' names are also boys' names?"
   ]
  },
  {
   "cell_type": "code",
   "execution_count": null,
   "metadata": {},
   "outputs": [],
   "source": [
    "# Note: these are asking the same question! The result from the code below\n",
    "# should convince you of that.\n",
    "\n",
    "boysNameAlsoGirlsName = 0\n",
    "for boysName in ssadata.boys:\n",
    "    if boysName in ssadata.girls:\n",
    "        boysNameAlsoGirlsName = boysNameAlsoGirlsName + 1\n",
    "\n",
    "print(\"There are \" + str(boysNameAlsoGirlsName) + \" boys names that are also girls names.\")\n",
    "\n",
    "girlsNameAlsoBoysName = 0\n",
    "for girlsName in ssadata.girls:\n",
    "    if girlsName in ssadata.boys:\n",
    "        girlsNameAlsoBoysName = girlsNameAlsoBoysName + 1\n",
    "\n",
    "print(\"There are \" + str(girlsNameAlsoBoysName) + \" girls names that are also boys names.\")\n"
   ]
  },
  {
   "cell_type": "markdown",
   "metadata": {},
   "source": [
    "### 8. How many names are subsets of other names?"
   ]
  },
  {
   "cell_type": "code",
   "execution_count": null,
   "metadata": {},
   "outputs": [],
   "source": [
    "boysNamesSubsets = 0\n",
    "for boysName in ssadata.boys:\n",
    "    match = False\n",
    "    for otherBoysName in ssadata.boys:\n",
    "        if not match and boysName in otherBoysName and otherBoysName != boysName:\n",
    "            boysNamesSubsets = boysNamesSubsets + 1\n",
    "            match = True\n",
    "\n",
    "print(str(boysNamesSubsets) + \" boys names are subsets of other boys names.\")\n",
    "\n",
    "girlsNamesSubsets = 0\n",
    "for girlsName in ssadata.girls:\n",
    "    match = False\n",
    "    for otherGirlsName in ssadata.girls:\n",
    "        if not match and girlsName in otherGirlsName and otherGirlsName != girlsName:\n",
    "            girlsNamesSubsets = girlsNamesSubsets + 1\n",
    "            match = True\n",
    "\n",
    "print(str(girlsNamesSubsets) + \" girls names are subsets of other girls names.\")"
   ]
  },
  {
   "cell_type": "markdown",
   "metadata": {},
   "source": [
    "### 9. What is the most popular girls' name that is also a boys' name?"
   ]
  },
  {
   "cell_type": "code",
   "execution_count": null,
   "metadata": {
    "scrolled": true
   },
   "outputs": [],
   "source": [
    "mostPopularName = \"\"\n",
    "mostPopularNameCount = 0\n",
    "\n",
    "for girlsName in ssadata.girls:\n",
    "    if girlsName in ssadata.boys and ssadata.girls[girlsName] > mostPopularNameCount:\n",
    "        mostPopularNameCount = ssadata.girls[girlsName]\n",
    "        mostPopularName = girlsName\n",
    "\n",
    "print(\"The most popular girls name that is also a boys name is \" + mostPopularName + \", with \" + str(mostPopularNameCount) + \" girls.\")\n",
    "print(\"There were also \" + str(ssadata.boys[mostPopularName]) + \" boys named \" + mostPopularName + \".\")"
   ]
  },
  {
   "cell_type": "markdown",
   "metadata": {},
   "source": [
    "### 10. Take a prefix as input and print the number of boys and girls with that prefix (i.e., \"m\" would list babies whose names start with \"m\" and \"ma\" would list babies whose names start with \"ma\", etc)."
   ]
  },
  {
   "cell_type": "code",
   "execution_count": null,
   "metadata": {},
   "outputs": [],
   "source": [
    "\n",
    "prefix = input(\"Input a prefix: \")\n",
    "\n",
    "boysNamesWithPrefix = 0\n",
    "for boysName in ssadata.boys:\n",
    "    if boysName.startswith(prefix):\n",
    "        boysNamesWithPrefix = boysNamesWithPrefix + 1\n",
    "\n",
    "print(\"There are \" + str(boysNamesWithPrefix) + \" boys names that start with \" + prefix + \".\")\n",
    "\n",
    "girlsNamesWithPrefix = 0\n",
    "for girlsName in ssadata.girls:\n",
    "    if girlsName.startswith(prefix):\n",
    "        girlsNamesWithPrefix = girlsNamesWithPrefix + 1\n",
    "\n",
    "print(\"There are \" + str(girlsNamesWithPrefix) + \" girls names that start with \" + prefix + \".\")"
   ]
  },
  {
   "cell_type": "code",
   "execution_count": null,
   "metadata": {},
   "outputs": [],
   "source": []
  }
 ],
 "metadata": {
  "kernelspec": {
   "display_name": "Python 3",
   "language": "python",
   "name": "python3"
  },
  "language_info": {
   "codemirror_mode": {
    "name": "ipython",
    "version": 3
   },
   "file_extension": ".py",
   "mimetype": "text/x-python",
   "name": "python",
   "nbconvert_exporter": "python",
   "pygments_lexer": "ipython3",
   "version": "3.7.3"
  }
 },
 "nbformat": 4,
 "nbformat_minor": 2
}
